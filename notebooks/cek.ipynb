{
 "cells": [
  {
   "cell_type": "code",
   "execution_count": 6,
   "id": "aa7ef508",
   "metadata": {},
   "outputs": [],
   "source": [
    "import pandas as pd\n",
    "import numpy as np"
   ]
  },
  {
   "cell_type": "code",
   "execution_count": 7,
   "id": "559d82f5",
   "metadata": {},
   "outputs": [
    {
     "data": {
      "text/html": [
       "<div>\n",
       "<style scoped>\n",
       "    .dataframe tbody tr th:only-of-type {\n",
       "        vertical-align: middle;\n",
       "    }\n",
       "\n",
       "    .dataframe tbody tr th {\n",
       "        vertical-align: top;\n",
       "    }\n",
       "\n",
       "    .dataframe thead th {\n",
       "        text-align: right;\n",
       "    }\n",
       "</style>\n",
       "<table border=\"1\" class=\"dataframe\">\n",
       "  <thead>\n",
       "    <tr style=\"text-align: right;\">\n",
       "      <th></th>\n",
       "      <th>toko</th>\n",
       "      <th>nama_barang</th>\n",
       "      <th>ulasan</th>\n",
       "      <th>rating</th>\n",
       "    </tr>\n",
       "  </thead>\n",
       "  <tbody>\n",
       "    <tr>\n",
       "      <th>0</th>\n",
       "      <td>ismile-indonesia</td>\n",
       "      <td>Apple iPhone 15 Plus Garansi Resmi - 128GB 256...</td>\n",
       "      <td>Barang Original, keren dan memuaskan.</td>\n",
       "      <td>5</td>\n",
       "    </tr>\n",
       "    <tr>\n",
       "      <th>1</th>\n",
       "      <td>ismile-indonesia</td>\n",
       "      <td>Vention Kabel Charger USB 2.0 Type C to Lightn...</td>\n",
       "      <td>Diluar ekpektasi sih, ternyata kabelnya kokoh ...</td>\n",
       "      <td>5</td>\n",
       "    </tr>\n",
       "    <tr>\n",
       "      <th>2</th>\n",
       "      <td>ismile-indonesia</td>\n",
       "      <td>Ugreen Magsafe Case Classy Clear Clear-Black F...</td>\n",
       "      <td>Case pas dan sesuai dengan pesanan. Belum dico...</td>\n",
       "      <td>5</td>\n",
       "    </tr>\n",
       "    <tr>\n",
       "      <th>3</th>\n",
       "      <td>ismile-indonesia</td>\n",
       "      <td>NaN</td>\n",
       "      <td>Barang sesuai pesanan dan bekerja dengan baik.</td>\n",
       "      <td>5</td>\n",
       "    </tr>\n",
       "    <tr>\n",
       "      <th>4</th>\n",
       "      <td>ismile-indonesia</td>\n",
       "      <td>NaN</td>\n",
       "      <td>Mantap ori</td>\n",
       "      <td>5</td>\n",
       "    </tr>\n",
       "  </tbody>\n",
       "</table>\n",
       "</div>"
      ],
      "text/plain": [
       "               toko                                        nama_barang  \\\n",
       "0  ismile-indonesia  Apple iPhone 15 Plus Garansi Resmi - 128GB 256...   \n",
       "1  ismile-indonesia  Vention Kabel Charger USB 2.0 Type C to Lightn...   \n",
       "2  ismile-indonesia  Ugreen Magsafe Case Classy Clear Clear-Black F...   \n",
       "3  ismile-indonesia                                                NaN   \n",
       "4  ismile-indonesia                                                NaN   \n",
       "\n",
       "                                              ulasan  rating  \n",
       "0              Barang Original, keren dan memuaskan.       5  \n",
       "1  Diluar ekpektasi sih, ternyata kabelnya kokoh ...       5  \n",
       "2  Case pas dan sesuai dengan pesanan. Belum dico...       5  \n",
       "3     Barang sesuai pesanan dan bekerja dengan baik.       5  \n",
       "4                                         Mantap ori       5  "
      ]
     },
     "execution_count": 7,
     "metadata": {},
     "output_type": "execute_result"
    }
   ],
   "source": [
    "df = pd.read_csv(\"data/raw/tokopedia_reviews.csv\")\n",
    "df.head()"
   ]
  },
  {
   "cell_type": "code",
   "execution_count": 8,
   "id": "0afded28",
   "metadata": {},
   "outputs": [
    {
     "data": {
      "text/plain": [
       "rating\n",
       "5    3640\n",
       "4     162\n",
       "1     111\n",
       "3      64\n",
       "2      23\n",
       "Name: count, dtype: int64"
      ]
     },
     "execution_count": 8,
     "metadata": {},
     "output_type": "execute_result"
    }
   ],
   "source": [
    "df['rating'].value_counts()"
   ]
  },
  {
   "cell_type": "code",
   "execution_count": 9,
   "id": "2065548f",
   "metadata": {},
   "outputs": [
    {
     "name": "stdout",
     "output_type": "stream",
     "text": [
      "<class 'pandas.core.frame.DataFrame'>\n",
      "RangeIndex: 4000 entries, 0 to 3999\n",
      "Data columns (total 4 columns):\n",
      " #   Column       Non-Null Count  Dtype \n",
      "---  ------       --------------  ----- \n",
      " 0   toko         4000 non-null   object\n",
      " 1   nama_barang  3590 non-null   object\n",
      " 2   ulasan       3832 non-null   object\n",
      " 3   rating       4000 non-null   int64 \n",
      "dtypes: int64(1), object(3)\n",
      "memory usage: 125.1+ KB\n"
     ]
    }
   ],
   "source": [
    "df.info()"
   ]
  },
  {
   "cell_type": "code",
   "execution_count": 10,
   "id": "722b789c",
   "metadata": {},
   "outputs": [
    {
     "data": {
      "text/plain": [
       "toko             0\n",
       "nama_barang    410\n",
       "ulasan         168\n",
       "rating           0\n",
       "dtype: int64"
      ]
     },
     "execution_count": 10,
     "metadata": {},
     "output_type": "execute_result"
    }
   ],
   "source": [
    "df.isnull().sum()"
   ]
  },
  {
   "cell_type": "code",
   "execution_count": 11,
   "id": "42629ff6",
   "metadata": {},
   "outputs": [
    {
     "data": {
      "text/html": [
       "<div>\n",
       "<style scoped>\n",
       "    .dataframe tbody tr th:only-of-type {\n",
       "        vertical-align: middle;\n",
       "    }\n",
       "\n",
       "    .dataframe tbody tr th {\n",
       "        vertical-align: top;\n",
       "    }\n",
       "\n",
       "    .dataframe thead th {\n",
       "        text-align: right;\n",
       "    }\n",
       "</style>\n",
       "<table border=\"1\" class=\"dataframe\">\n",
       "  <thead>\n",
       "    <tr style=\"text-align: right;\">\n",
       "      <th></th>\n",
       "      <th>toko</th>\n",
       "      <th>nama_barang</th>\n",
       "      <th>review_text</th>\n",
       "      <th>rating</th>\n",
       "      <th>clean_text</th>\n",
       "      <th>has_kualitas_produk</th>\n",
       "      <th>has_harga</th>\n",
       "      <th>has_pengiriman</th>\n",
       "      <th>has_pelayanan</th>\n",
       "      <th>has_performa</th>\n",
       "      <th>has_packaging</th>\n",
       "      <th>sentiment_kualitas_produk</th>\n",
       "      <th>sentiment_harga</th>\n",
       "      <th>sentiment_pengiriman</th>\n",
       "      <th>sentiment_pelayanan</th>\n",
       "      <th>sentiment_performa</th>\n",
       "      <th>sentiment_packaging</th>\n",
       "      <th>text_length</th>\n",
       "      <th>word_count</th>\n",
       "    </tr>\n",
       "  </thead>\n",
       "  <tbody>\n",
       "    <tr>\n",
       "      <th>0</th>\n",
       "      <td>ismile-indonesia</td>\n",
       "      <td>Apple iPhone 15 Plus Garansi Resmi - 128GB 256...</td>\n",
       "      <td>Barang Original, keren dan memuaskan.</td>\n",
       "      <td>5</td>\n",
       "      <td>barang original keren dan memuaskan</td>\n",
       "      <td>1</td>\n",
       "      <td>0</td>\n",
       "      <td>0</td>\n",
       "      <td>0</td>\n",
       "      <td>0</td>\n",
       "      <td>0</td>\n",
       "      <td>1</td>\n",
       "      <td>0</td>\n",
       "      <td>0</td>\n",
       "      <td>0</td>\n",
       "      <td>0</td>\n",
       "      <td>0</td>\n",
       "      <td>35</td>\n",
       "      <td>5</td>\n",
       "    </tr>\n",
       "    <tr>\n",
       "      <th>1</th>\n",
       "      <td>ismile-indonesia</td>\n",
       "      <td>Vention Kabel Charger USB 2.0 Type C to Lightn...</td>\n",
       "      <td>Diluar ekpektasi sih, ternyata kabelnya kokoh ...</td>\n",
       "      <td>5</td>\n",
       "      <td>diluar ekpektasi sih ternyata kabelnya kokoh b...</td>\n",
       "      <td>0</td>\n",
       "      <td>0</td>\n",
       "      <td>0</td>\n",
       "      <td>0</td>\n",
       "      <td>0</td>\n",
       "      <td>0</td>\n",
       "      <td>0</td>\n",
       "      <td>0</td>\n",
       "      <td>0</td>\n",
       "      <td>0</td>\n",
       "      <td>0</td>\n",
       "      <td>0</td>\n",
       "      <td>106</td>\n",
       "      <td>16</td>\n",
       "    </tr>\n",
       "    <tr>\n",
       "      <th>2</th>\n",
       "      <td>ismile-indonesia</td>\n",
       "      <td>Ugreen Magsafe Case Classy Clear Clear-Black F...</td>\n",
       "      <td>Case pas dan sesuai dengan pesanan. Belum dico...</td>\n",
       "      <td>5</td>\n",
       "      <td>case pas dan sesuai dengan pesanan belum dicob...</td>\n",
       "      <td>0</td>\n",
       "      <td>0</td>\n",
       "      <td>0</td>\n",
       "      <td>0</td>\n",
       "      <td>0</td>\n",
       "      <td>0</td>\n",
       "      <td>0</td>\n",
       "      <td>0</td>\n",
       "      <td>0</td>\n",
       "      <td>0</td>\n",
       "      <td>0</td>\n",
       "      <td>0</td>\n",
       "      <td>76</td>\n",
       "      <td>12</td>\n",
       "    </tr>\n",
       "    <tr>\n",
       "      <th>3</th>\n",
       "      <td>ismile-indonesia</td>\n",
       "      <td>Apple iPhone 15 Garansi Resmi - 128GB 256GB 512GB</td>\n",
       "      <td>terimakasih barang dtg celat barang bagus/ori ...</td>\n",
       "      <td>5</td>\n",
       "      <td>terimakasih barang dtg celat barang bagus ori ...</td>\n",
       "      <td>1</td>\n",
       "      <td>0</td>\n",
       "      <td>0</td>\n",
       "      <td>1</td>\n",
       "      <td>1</td>\n",
       "      <td>0</td>\n",
       "      <td>1</td>\n",
       "      <td>0</td>\n",
       "      <td>0</td>\n",
       "      <td>1</td>\n",
       "      <td>1</td>\n",
       "      <td>0</td>\n",
       "      <td>133</td>\n",
       "      <td>25</td>\n",
       "    </tr>\n",
       "    <tr>\n",
       "      <th>4</th>\n",
       "      <td>ismile-indonesia</td>\n",
       "      <td>Apple iPhone 13 Garansi Resmi - 128GB 256GB 512GB</td>\n",
       "      <td>Puass bangett, sengaja baru ngasih review sete...</td>\n",
       "      <td>5</td>\n",
       "      <td>puass bangett sengaja baru ngasih review setel...</td>\n",
       "      <td>0</td>\n",
       "      <td>0</td>\n",
       "      <td>0</td>\n",
       "      <td>0</td>\n",
       "      <td>0</td>\n",
       "      <td>1</td>\n",
       "      <td>0</td>\n",
       "      <td>0</td>\n",
       "      <td>0</td>\n",
       "      <td>0</td>\n",
       "      <td>0</td>\n",
       "      <td>1</td>\n",
       "      <td>132</td>\n",
       "      <td>19</td>\n",
       "    </tr>\n",
       "  </tbody>\n",
       "</table>\n",
       "</div>"
      ],
      "text/plain": [
       "               toko                                        nama_barang  \\\n",
       "0  ismile-indonesia  Apple iPhone 15 Plus Garansi Resmi - 128GB 256...   \n",
       "1  ismile-indonesia  Vention Kabel Charger USB 2.0 Type C to Lightn...   \n",
       "2  ismile-indonesia  Ugreen Magsafe Case Classy Clear Clear-Black F...   \n",
       "3  ismile-indonesia  Apple iPhone 15 Garansi Resmi - 128GB 256GB 512GB   \n",
       "4  ismile-indonesia  Apple iPhone 13 Garansi Resmi - 128GB 256GB 512GB   \n",
       "\n",
       "                                         review_text  rating  \\\n",
       "0              Barang Original, keren dan memuaskan.       5   \n",
       "1  Diluar ekpektasi sih, ternyata kabelnya kokoh ...       5   \n",
       "2  Case pas dan sesuai dengan pesanan. Belum dico...       5   \n",
       "3  terimakasih barang dtg celat barang bagus/ori ...       5   \n",
       "4  Puass bangett, sengaja baru ngasih review sete...       5   \n",
       "\n",
       "                                          clean_text  has_kualitas_produk  \\\n",
       "0                barang original keren dan memuaskan                    1   \n",
       "1  diluar ekpektasi sih ternyata kabelnya kokoh b...                    0   \n",
       "2  case pas dan sesuai dengan pesanan belum dicob...                    0   \n",
       "3  terimakasih barang dtg celat barang bagus ori ...                    1   \n",
       "4  puass bangett sengaja baru ngasih review setel...                    0   \n",
       "\n",
       "   has_harga  has_pengiriman  has_pelayanan  has_performa  has_packaging  \\\n",
       "0          0               0              0             0              0   \n",
       "1          0               0              0             0              0   \n",
       "2          0               0              0             0              0   \n",
       "3          0               0              1             1              0   \n",
       "4          0               0              0             0              1   \n",
       "\n",
       "   sentiment_kualitas_produk  sentiment_harga  sentiment_pengiriman  \\\n",
       "0                          1                0                     0   \n",
       "1                          0                0                     0   \n",
       "2                          0                0                     0   \n",
       "3                          1                0                     0   \n",
       "4                          0                0                     0   \n",
       "\n",
       "   sentiment_pelayanan  sentiment_performa  sentiment_packaging  text_length  \\\n",
       "0                    0                   0                    0           35   \n",
       "1                    0                   0                    0          106   \n",
       "2                    0                   0                    0           76   \n",
       "3                    1                   1                    0          133   \n",
       "4                    0                   0                    1          132   \n",
       "\n",
       "   word_count  \n",
       "0           5  \n",
       "1          16  \n",
       "2          12  \n",
       "3          25  \n",
       "4          19  "
      ]
     },
     "execution_count": 11,
     "metadata": {},
     "output_type": "execute_result"
    }
   ],
   "source": [
    "data = pd.read_csv(\"data/processed/processed_reviews.csv\")\n",
    "data.head()"
   ]
  },
  {
   "cell_type": "code",
   "execution_count": 12,
   "id": "4082db5f",
   "metadata": {},
   "outputs": [
    {
     "name": "stdout",
     "output_type": "stream",
     "text": [
      "<class 'pandas.core.frame.DataFrame'>\n",
      "RangeIndex: 3396 entries, 0 to 3395\n",
      "Data columns (total 19 columns):\n",
      " #   Column                     Non-Null Count  Dtype \n",
      "---  ------                     --------------  ----- \n",
      " 0   toko                       3396 non-null   object\n",
      " 1   nama_barang                3396 non-null   object\n",
      " 2   review_text                3396 non-null   object\n",
      " 3   rating                     3396 non-null   int64 \n",
      " 4   clean_text                 3396 non-null   object\n",
      " 5   has_kualitas_produk        3396 non-null   int64 \n",
      " 6   has_harga                  3396 non-null   int64 \n",
      " 7   has_pengiriman             3396 non-null   int64 \n",
      " 8   has_pelayanan              3396 non-null   int64 \n",
      " 9   has_performa               3396 non-null   int64 \n",
      " 10  has_packaging              3396 non-null   int64 \n",
      " 11  sentiment_kualitas_produk  3396 non-null   int64 \n",
      " 12  sentiment_harga            3396 non-null   int64 \n",
      " 13  sentiment_pengiriman       3396 non-null   int64 \n",
      " 14  sentiment_pelayanan        3396 non-null   int64 \n",
      " 15  sentiment_performa         3396 non-null   int64 \n",
      " 16  sentiment_packaging        3396 non-null   int64 \n",
      " 17  text_length                3396 non-null   int64 \n",
      " 18  word_count                 3396 non-null   int64 \n",
      "dtypes: int64(15), object(4)\n",
      "memory usage: 504.2+ KB\n"
     ]
    }
   ],
   "source": [
    "data.info()"
   ]
  },
  {
   "cell_type": "code",
   "execution_count": 13,
   "id": "5c6ab651",
   "metadata": {},
   "outputs": [
    {
     "data": {
      "text/plain": [
       "sentiment_kualitas_produk\n",
       " 0    1882\n",
       " 1    1478\n",
       "-1      36\n",
       "Name: count, dtype: int64"
      ]
     },
     "execution_count": 13,
     "metadata": {},
     "output_type": "execute_result"
    }
   ],
   "source": [
    "data['sentiment_kualitas_produk'].value_counts()"
   ]
  },
  {
   "cell_type": "code",
   "execution_count": null,
   "id": "1ed0bea1",
   "metadata": {},
   "outputs": [],
   "source": []
  }
 ],
 "metadata": {
  "kernelspec": {
   "display_name": "Python 3",
   "language": "python",
   "name": "python3"
  },
  "language_info": {
   "codemirror_mode": {
    "name": "ipython",
    "version": 3
   },
   "file_extension": ".py",
   "mimetype": "text/x-python",
   "name": "python",
   "nbconvert_exporter": "python",
   "pygments_lexer": "ipython3",
   "version": "3.11.0"
  }
 },
 "nbformat": 4,
 "nbformat_minor": 5
}
